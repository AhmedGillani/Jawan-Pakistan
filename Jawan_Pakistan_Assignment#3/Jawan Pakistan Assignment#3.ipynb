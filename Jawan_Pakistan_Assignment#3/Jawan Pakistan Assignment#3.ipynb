{
 "cells": [
  {
   "cell_type": "code",
   "execution_count": 1,
   "id": "a46f523a",
   "metadata": {},
   "outputs": [
    {
     "name": "stdout",
     "output_type": "stream",
     "text": [
      "Twinkle, twinkle, little star,\n",
      "\tHow I wonder what you are!\n",
      "\t\tUp above the world so high,\n",
      "\t\tLike a diamond in the sky.\n",
      "Twinkle, twinkle, little star,\n",
      "\tHow I wonder what you are\n"
     ]
    }
   ],
   "source": [
    "# 1. Write a Python program to print the following string in a specific format (see the \n",
    "# output). \n",
    "# Twinkle, twinkle, little star, \n",
    "#        How I wonder what you are! \n",
    "#                Up above the world so high, \n",
    "#                Like a diamond in the sky. \n",
    "#Twinkle, twinkle, little star, \n",
    "#       How I wonder what you are \n",
    "\n",
    "# ----Program----\n",
    "\n",
    "print('Twinkle, twinkle, little star,\\n'\n",
    "      '\\tHow I wonder what you are!\\n'\n",
    "      '\\t\\tUp above the world so high,\\n'\n",
    "      '\\t\\tLike a diamond in the sky.\\n'\n",
    "      'Twinkle, twinkle, little star,\\n'\n",
    "      '\\tHow I wonder what you are')\n"
   ]
  },
  {
   "cell_type": "code",
   "execution_count": 2,
   "id": "b67135cf",
   "metadata": {},
   "outputs": [
    {
     "name": "stdout",
     "output_type": "stream",
     "text": [
      "Currently Running on: 3.8.8 (default, Apr 13 2021, 15:08:03) [MSC v.1916 64 bit (AMD64)]\n"
     ]
    }
   ],
   "source": [
    "# 2. Write a Python program to get the Python version you are using \n",
    "\n",
    "# ----Program----\n",
    "\n",
    "import sys\n",
    "print('Currently Running on:', sys.version)"
   ]
  },
  {
   "cell_type": "code",
   "execution_count": 3,
   "id": "890b41bb",
   "metadata": {},
   "outputs": [
    {
     "name": "stdout",
     "output_type": "stream",
     "text": [
      "current date & time is: 2021-10-21 23:29:06.386210\n"
     ]
    }
   ],
   "source": [
    "# 3. Write a Python program to display the current date and time.\n",
    "\n",
    "# ----Program----\n",
    "\n",
    "from datetime import datetime\n",
    "\n",
    "print('current date & time is:', datetime.now())"
   ]
  },
  {
   "cell_type": "code",
   "execution_count": 4,
   "id": "35377a30",
   "metadata": {},
   "outputs": [
    {
     "name": "stdout",
     "output_type": "stream",
     "text": [
      "Entre Radius of a circle: 3.4\n",
      "The Area of a circle with radius 3.4 is: 36.316811075498\n"
     ]
    }
   ],
   "source": [
    "# 4. Write a Python program which accepts the radius of a circle from the user and compute \n",
    "# the area. \n",
    "\n",
    "# ----Program----\n",
    "\n",
    "from math import pi\n",
    "\n",
    "r = float(input('Entre Radius of a circle: '))\n",
    "a = pi * r**2\n",
    "print('The Area of a circle with radius', r, 'is:', a)"
   ]
  },
  {
   "cell_type": "code",
   "execution_count": 5,
   "id": "64ffceb1",
   "metadata": {},
   "outputs": [
    {
     "name": "stdout",
     "output_type": "stream",
     "text": [
      "Entre your first name: Syed Ahmed Mazhar\n",
      "Entre your last name: Gillani\n",
      "rahzaM demhA deyS inalliG\n"
     ]
    }
   ],
   "source": [
    "# 5. Write a Python program which accepts the user's first and last name and print them in \n",
    "# reverse order with a space between them. \n",
    "\n",
    "# ----Program----\n",
    "\n",
    "fname = input('Entre your first name: ')\n",
    "lname = input('Entre your last name: ')\n",
    "print(fname[::-1], lname[::-1])"
   ]
  },
  {
   "cell_type": "code",
   "execution_count": 6,
   "id": "15476f0a",
   "metadata": {},
   "outputs": [
    {
     "name": "stdout",
     "output_type": "stream",
     "text": [
      "Entre first number: 2.4\n",
      "Entre second number: 3.6\n",
      "2.4 + 3.6 = 6\n"
     ]
    }
   ],
   "source": [
    "# 6. Write a python program which takes two inputs from user and print them addition \n",
    "\n",
    "# ----Program----\n",
    "\n",
    "n1 = float(input('Entre first number: '))\n",
    "n2 = float(input('Entre second number: '))\n",
    "add = n1 + n2\n",
    "iad = int(add)\n",
    "if iad != add:\n",
    "    print(n1, '+', n2, '=', add)\n",
    "else:\n",
    "    print(n1, '+', n2, '=', iad)\n",
    "    \n",
    "    "
   ]
  },
  {
   "cell_type": "code",
   "execution_count": 7,
   "id": "623c7f9c",
   "metadata": {},
   "outputs": [
    {
     "name": "stdout",
     "output_type": "stream",
     "text": [
      "Entre first subject number: 45.6\n",
      "Entre second subject number: 78.9\n",
      "Entre third subject number: 87\n",
      "Entre fourth subject number: 56\n",
      "Entre fifth subject number: 76.5\n",
      "\n",
      "---Details of your Marks---\n",
      "344 / 500\n",
      "You Secure Grade B 68.8 %\n"
     ]
    }
   ],
   "source": [
    "# 7. Write a program which takes 5 inputs from user for different subject’s marks, total it \n",
    "# and generate mark sheet using grades ? \n",
    "\n",
    "# ----Program----\n",
    "\n",
    "s1 = float(input('Entre first subject number: '))\n",
    "s2 = float(input('Entre second subject number: '))\n",
    "s3 = float(input('Entre third subject number: '))\n",
    "s4 = float(input('Entre fourth subject number: '))\n",
    "s5 = float(input('Entre fifth subject number: '))\n",
    "Obtained_Marks = s1 + s2 + s3 + s4 + s5\n",
    "IOBM = int(Obtained_Marks)\n",
    "if IOBM == Obtained_Marks:\n",
    "    Obtained_Marks = IOBM\n",
    "else:\n",
    "    IOBM = Obtained_Marks\n",
    "Total_Marks = 500\n",
    "percent = Obtained_Marks*100/Total_Marks\n",
    "if percent >= 80 and percent < 100:\n",
    "    print('\\n---Details of your Marks---')\n",
    "    print(Obtained_Marks, \"/\", Total_Marks)\n",
    "    print('You Secure Grade A+', percent,'%')\n",
    "elif percent >= 70 and percent < 80:\n",
    "    print('\\n---Details of your Marks---')\n",
    "    print(Obtained_Marks, \"/\", Total_Marks)\n",
    "    print('You Secure Grade A', percent, '%')\n",
    "elif percent >= 60 and percent < 70:\n",
    "    print('\\n---Details of your Marks---')\n",
    "    print(Obtained_Marks, \"/\", Total_Marks)\n",
    "    print('You Secure Grade B', percent, '%')\n",
    "elif percent >= 50 and percent < 60:\n",
    "    print('\\n---Details of your Marks---')\n",
    "    print(Obtained_Marks, \"/\", Total_Marks)\n",
    "    print('You Secure Grade C', percent, '%')\n",
    "elif percent >= 40 and percent < 50:\n",
    "    print('\\n---Details of your Marks---')\n",
    "    print(Obtained_Marks, \"/\", Total_Marks)\n",
    "    print('You Secure Grade D', percent, '%')\n",
    "elif percent >= 33 and percent < 40:\n",
    "    print('\\n---Details of your Marks---')\n",
    "    print(Obtained_Marks, \"/\", Total_Marks)\n",
    "    print('You Secure Grade E', percent, '%')\n",
    "elif percent < 33:\n",
    "    print('\\n---Details of your Marks---')\n",
    "    print(Obtained_Marks, \"/\", Total_Marks)\n",
    "    print('You are Fail! Grade F', percent, '%')\n",
    "else:\n",
    "    print('Invalid Input!')"
   ]
  },
  {
   "cell_type": "code",
   "execution_count": 8,
   "id": "87ca618d",
   "metadata": {},
   "outputs": [
    {
     "name": "stdout",
     "output_type": "stream",
     "text": [
      "Entre a number: 45\n",
      "45 Is Odd Number.\n"
     ]
    }
   ],
   "source": [
    "# 8. Write a program which take input from user and identify that the given number is even \n",
    "# or odd?\n",
    "\n",
    "# ----Program----\n",
    "\n",
    "num = int(input('Entre a number: '))\n",
    "if num%2 == 0:\n",
    "    print(num, 'Is Even Number.')\n",
    "else:\n",
    "    print(num, 'Is Odd Number.')"
   ]
  },
  {
   "cell_type": "code",
   "execution_count": 9,
   "id": "5fd4508c",
   "metadata": {},
   "outputs": [
    {
     "name": "stdout",
     "output_type": "stream",
     "text": [
      "The length of list you given is: 10\n"
     ]
    }
   ],
   "source": [
    "# 9. Write a program which print the length of the list?\n",
    "\n",
    "# ----Program----\n",
    "\n",
    "l = [1, 2, 3, 'a', 'b', 'c', 1.1, 2.2, 3.3, 4.4]\n",
    "print('The length of list you given is:', len(l))"
   ]
  },
  {
   "cell_type": "code",
   "execution_count": 10,
   "id": "39e69020",
   "metadata": {},
   "outputs": [
    {
     "name": "stdout",
     "output_type": "stream",
     "text": [
      "Sum of all numeric items of given list is: 17\n"
     ]
    }
   ],
   "source": [
    "# 10.Write a Python program to sum all the numeric items in a list? \n",
    "\n",
    "# ----Program----\n",
    "\n",
    "l = [1, 2, 3, 'a', 'b', 'c', 1.1, 2.2, 3.3, 4.4]\n",
    "total = 0\n",
    "for item in l:\n",
    "    if (type(item) is float) or (type(item) is int):\n",
    "        total = total + item\n",
    "    else:\n",
    "        continue\n",
    "it = int(total)\n",
    "if it == total:\n",
    "    total = it\n",
    "else:\n",
    "    it = total\n",
    "print('Sum of all numeric items of given list is:', total)"
   ]
  },
  {
   "cell_type": "code",
   "execution_count": 11,
   "id": "a1675c82",
   "metadata": {},
   "outputs": [
    {
     "name": "stdout",
     "output_type": "stream",
     "text": [
      "Largest Number in the given list is: 45\n"
     ]
    }
   ],
   "source": [
    "# 11.Write a Python program to get the largest number from a numeric list. \n",
    "\n",
    "# ----Program----\n",
    "\n",
    "nl = [1, 2, 3, 4, 5, 10.5, 20.4, 3.4, 10.6, 45]\n",
    "print('Largest Number in the given list is:', max(nl))"
   ]
  },
  {
   "cell_type": "code",
   "execution_count": 12,
   "id": "2e286125",
   "metadata": {},
   "outputs": [
    {
     "name": "stdout",
     "output_type": "stream",
     "text": [
      "1\n",
      "1\n",
      "2\n",
      "3\n"
     ]
    }
   ],
   "source": [
    "# 12. Take a list, say for example this one: \n",
    " \n",
    "# a = [1, 1, 2, 3, 5, 8, 13, 21, 34, 55, 89] \n",
    "#  Write a program that prints out all the elements of the list that are less than 5.\n",
    "\n",
    "# ----Program----\n",
    "\n",
    "a = [1, 1, 2, 3, 5, 8, 13, 21, 34, 55, 89]\n",
    "for item in a:\n",
    "    if item < 5:\n",
    "        print(item)\n",
    "    else:\n",
    "        continue\n"
   ]
  },
  {
   "cell_type": "code",
   "execution_count": null,
   "id": "8911bd48",
   "metadata": {},
   "outputs": [],
   "source": []
  }
 ],
 "metadata": {
  "kernelspec": {
   "display_name": "Python 3",
   "language": "python",
   "name": "python3"
  },
  "language_info": {
   "codemirror_mode": {
    "name": "ipython",
    "version": 3
   },
   "file_extension": ".py",
   "mimetype": "text/x-python",
   "name": "python",
   "nbconvert_exporter": "python",
   "pygments_lexer": "ipython3",
   "version": "3.8.8"
  }
 },
 "nbformat": 4,
 "nbformat_minor": 5
}
