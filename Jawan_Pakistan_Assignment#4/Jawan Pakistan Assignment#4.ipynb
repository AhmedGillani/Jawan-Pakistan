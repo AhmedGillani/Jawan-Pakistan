{
 "cells": [
  {
   "cell_type": "code",
   "execution_count": 1,
   "id": "1ff1fc1d",
   "metadata": {},
   "outputs": [
    {
     "name": "stdout",
     "output_type": "stream",
     "text": [
      "Select operation.\n",
      "1.Add\n",
      "2.Subtract\n",
      "3.Multiply\n",
      "4.Divide\n",
      "5.Power\n",
      "Enter choice(1/2/3/4/5): 1\n",
      "Enter first number(if you use 5th operation here entre number): 2\n",
      "Enter second number(if you use 5th operation here entre power): 2\n",
      "2.0 + 2.0 = 4.0\n",
      "Let's do next calculation? (y/n): y\n",
      "Enter choice(1/2/3/4/5): 2\n",
      "Enter first number(if you use 5th operation here entre number): 3\n",
      "Enter second number(if you use 5th operation here entre power): 4\n",
      "3.0 - 4.0 = -1.0\n",
      "Let's do next calculation? (y/n): y\n",
      "Enter choice(1/2/3/4/5): 3\n",
      "Enter first number(if you use 5th operation here entre number): 5\n",
      "Enter second number(if you use 5th operation here entre power): 6\n",
      "5.0 * 6.0 = 30.0\n",
      "Let's do next calculation? (y/n): y\n",
      "Enter choice(1/2/3/4/5): 4\n",
      "Enter first number(if you use 5th operation here entre number): 10\n",
      "Enter second number(if you use 5th operation here entre power): 2\n",
      "10.0 / 2.0 = 5.0\n",
      "Let's do next calculation? (y/n): y\n",
      "Enter choice(1/2/3/4/5): 5\n",
      "Enter first number(if you use 5th operation here entre number): 2\n",
      "Enter second number(if you use 5th operation here entre power): 8\n",
      "2.0 ** 8.0 = 256.0\n",
      "Let's do next calculation? (y/n): n\n",
      "\n",
      " ---- Thanks for using our calculator ----\n"
     ]
    }
   ],
   "source": [
    "# 1. Make a calculator using Python with addition , subtraction ,\n",
    "# multiplication ,division and power.\n",
    "\n",
    "# ----Program----\n",
    "\n",
    "# This function adds two numbers\n",
    "def add(x, y):\n",
    "    return x + y\n",
    "\n",
    "\n",
    "# This function subtracts two numbers\n",
    "def subtract(x, y):\n",
    "    return x - y\n",
    "\n",
    "\n",
    "# This function multiplies two numbers\n",
    "def multiply(x, y):\n",
    "    return x * y\n",
    "\n",
    "\n",
    "# This function divides two numbers\n",
    "def divide(x, y):\n",
    "    return x / y\n",
    "\n",
    "\n",
    "# This function divides two numbers\n",
    "def power(x, y):\n",
    "    x = x**y\n",
    "    return x\n",
    "\n",
    "\n",
    "print(\"Select operation.\")\n",
    "print(\"1.Add\")\n",
    "print(\"2.Subtract\")\n",
    "print(\"3.Multiply\")\n",
    "print(\"4.Divide\")\n",
    "print(\"5.Power\")\n",
    "\n",
    "while True:\n",
    "    # take input from the user\n",
    "    choice = input(\"Enter choice(1/2/3/4/5): \")\n",
    "\n",
    "    # check if choice is one of the four options\n",
    "    if choice in ('1', '2', '3', '4', '5'):\n",
    "        num1 = float(input(\"Enter first number(if you use 5th operation here entre number): \"))\n",
    "        num2 = float(input(\"Enter second number(if you use 5th operation here entre power): \"))\n",
    "\n",
    "        if choice == '1':\n",
    "            print(num1, \"+\", num2, \"=\", add(num1, num2))\n",
    "\n",
    "        elif choice == '2':\n",
    "            print(num1, \"-\", num2, \"=\", subtract(num1, num2))\n",
    "\n",
    "        elif choice == '3':\n",
    "            print(num1, \"*\", num2, \"=\", multiply(num1, num2))\n",
    "\n",
    "        elif choice == '4':\n",
    "            print(num1, \"/\", num2, \"=\", divide(num1, num2))\n",
    "\n",
    "        elif choice == '5':\n",
    "            print(num1, \"**\", num2, \"=\", power(num1, num2))\n",
    "\n",
    "        # check if user wants another calculation\n",
    "        # break the while loop if answer is no\n",
    "        next_calculation = input(\"Let's do next calculation? (y/n): \")\n",
    "        if next_calculation == \"n\":\n",
    "            print('\\n ---- Thanks for using our calculator ----')\n",
    "            break\n",
    "\n",
    "    else:\n",
    "        print(\"Invalid Input\")\n"
   ]
  },
  {
   "cell_type": "code",
   "execution_count": 2,
   "id": "a6d95eed",
   "metadata": {},
   "outputs": [
    {
     "name": "stdout",
     "output_type": "stream",
     "text": [
      "4\n",
      "6.5\n",
      "54\n",
      "9.8\n"
     ]
    }
   ],
   "source": [
    "# 2. Write a program to check if there is any numeric value in list using for\n",
    "# loop.\n",
    "\n",
    "# ----Program----\n",
    "\n",
    "l1 = [\"abc\", \"def\", 4, \"ghi\", 6.5, 'hello', 'ijk', 54, 9.8]\n",
    "\n",
    "# If output is nothing it's means no numeric value found in your given list\n",
    "for x in l1:\n",
    "    if (type(x) == int) or (type(x) == float):\n",
    "        print(x)\n"
   ]
  },
  {
   "cell_type": "code",
   "execution_count": 3,
   "id": "ec6c8744",
   "metadata": {},
   "outputs": [
    {
     "name": "stdout",
     "output_type": "stream",
     "text": [
      "{'a': 'Ahmed', 'b': 'ijk', 'c': 123, 'd': 45.6}\n",
      "Entre a key: e\n",
      "Entre it's value: xyz\n",
      "{'a': 'Ahmed', 'b': 'ijk', 'c': 123, 'd': 45.6, 'e': 'xyz'}\n"
     ]
    }
   ],
   "source": [
    "# 3. Write a Python script to add a key to a dictionary.\n",
    "\n",
    "# ----Program----\n",
    "\n",
    "dic = {'a': \"Ahmed\", 'b': \"ijk\", 'c': 123, 'd': 45.6}\n",
    "print(dic)\n",
    "k = input('Entre a key: ')\n",
    "v = input('Entre it\\'s value: ')\n",
    "dic[k] = v\n",
    "print(dic)\n"
   ]
  },
  {
   "cell_type": "code",
   "execution_count": 4,
   "id": "de57fcca",
   "metadata": {},
   "outputs": [
    {
     "name": "stdout",
     "output_type": "stream",
     "text": [
      "{'a': 'Ahmed', 'b': 'ijk', 'c': 123, 'd': 45.6}\n",
      "Sum of numeric values the given dictionary is: 168.6\n"
     ]
    }
   ],
   "source": [
    "# 4. Write a Python program to sum all the numeric items in a dictionary.\n",
    "\n",
    "# ----Program----\n",
    "\n",
    "dic = {'a': \"Ahmed\", 'b': \"ijk\", 'c': 123, 'd': 45.6}\n",
    "print(dic)\n",
    "total = 0\n",
    "for i in dic.values():\n",
    "    if (type(i) == int) or (type(i) == float):\n",
    "        total = total + i\n",
    "print('Sum of numeric values the given dictionary is:', total)\n"
   ]
  },
  {
   "cell_type": "code",
   "execution_count": 5,
   "id": "ee77ac3e",
   "metadata": {},
   "outputs": [
    {
     "name": "stdout",
     "output_type": "stream",
     "text": [
      "original list: [1, 2, 3, 4, 5, 2, 3, 4, 7, 9, 5]\n",
      "2 3 4 5 \n",
      " after filter out duplicates: [1, 2, 3, 4, 5, 7, 9]\n"
     ]
    }
   ],
   "source": [
    "# 5. Write a program to identify duplicate values from list.\n",
    "\n",
    "# ----Program----\n",
    "\n",
    "l1 = [1, 2, 3, 4, 5, 2, 3, 4, 7, 9, 5]\n",
    "l2 = []\n",
    "print('original list:', l1)\n",
    "for i in l1:\n",
    "    if i not in l2:\n",
    "        l2.append(i)\n",
    "    else:\n",
    "        print(i, end=' ')\n",
    "print('\\n after filter out duplicates:', l2)\n"
   ]
  },
  {
   "cell_type": "code",
   "execution_count": 6,
   "id": "afc61b11",
   "metadata": {},
   "outputs": [
    {
     "name": "stdout",
     "output_type": "stream",
     "text": [
      "Entre key for check this key is present or not is the given dictionary\n",
      " key: e\n",
      "Key is Not Present in the dictionary!\n"
     ]
    }
   ],
   "source": [
    "# 6. Write a Python script to check if a given key already exists in a\n",
    "# dictionary\n",
    "\n",
    "# ----Program----\n",
    "\n",
    "def key_checker(dic):\n",
    "    k = input('Entre key for check this key is present or not is the given dictionary\\n key: ')\n",
    "    for i in dic.keys():\n",
    "        if k in i:\n",
    "            print('key is already in the dictionary!')\n",
    "            break\n",
    "        else:\n",
    "            print('Key is Not Present in the dictionary!')\n",
    "            break\n",
    "\n",
    "\n",
    "dic1 = {'a': 10, 'b': 20, 'c': 30, 'd': 40}\n",
    "\n",
    "# call the key_checker function and give it the dictionary you want to check the keys!\n",
    "key_checker(dic1)\n"
   ]
  }
 ],
 "metadata": {
  "kernelspec": {
   "display_name": "Python 3 (ipykernel)",
   "language": "python",
   "name": "python3"
  },
  "language_info": {
   "codemirror_mode": {
    "name": "ipython",
    "version": 3
   },
   "file_extension": ".py",
   "mimetype": "text/x-python",
   "name": "python",
   "nbconvert_exporter": "python",
   "pygments_lexer": "ipython3",
   "version": "3.7.2"
  }
 },
 "nbformat": 4,
 "nbformat_minor": 5
}
