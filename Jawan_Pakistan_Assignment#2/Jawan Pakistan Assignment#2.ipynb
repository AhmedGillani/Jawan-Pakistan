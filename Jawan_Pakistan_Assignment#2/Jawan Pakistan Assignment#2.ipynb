{
 "cells": [
  {
   "cell_type": "code",
   "execution_count": 1,
   "id": "ad7ab5a3",
   "metadata": {},
   "outputs": [
    {
     "name": "stdout",
     "output_type": "stream",
     "text": [
      "Entre numbers you got in English: 76\n",
      "Entre numbers you got in Islamiat: 86\n",
      "Entre numbers you got in Maths: 56\n",
      "\n",
      "---Details of your Marks---\n",
      "218 / 300\n",
      "You Secure Grade A 72.66666666666667 %\n"
     ]
    }
   ],
   "source": [
    "#              Assignment # 2 ( Marksheet )\n",
    "# 1) Mentioned marks of Eng, Isl and Maths out of 100 in 3 different variable\n",
    "# 2) Mentioned Variable of Total Marks and assign 300 to it\n",
    "# 3) Calculate percentage\n",
    "# 4) Mentioned grade using conditional statement like I explained in cLass\n",
    "\n",
    "# ----Program----\n",
    "\n",
    "English = float(input('Entre numbers you got in English: '))\n",
    "Islamiat = float(input('Entre numbers you got in Islamiat: '))\n",
    "Maths = float(input('Entre numbers you got in Maths: '))\n",
    "Obtained_Marks = English + Islamiat + Maths\n",
    "IOBM = int(Obtained_Marks)\n",
    "if IOBM == Obtained_Marks:\n",
    "    Obtained_Marks = IOBM\n",
    "else:\n",
    "    IOBM = Obtained_Marks\n",
    "Total_Marks = 300\n",
    "percent = Obtained_Marks*100/Total_Marks\n",
    "if percent >= 80 and percent < 100:\n",
    "    print('\\n---Details of your Marks---')\n",
    "    print(Obtained_Marks, \"/\", Total_Marks)\n",
    "    print('You Secure Grade A+', percent,'%')\n",
    "elif percent >= 70 and percent < 80:\n",
    "    print('\\n---Details of your Marks---')\n",
    "    print(Obtained_Marks, \"/\", Total_Marks)\n",
    "    print('You Secure Grade A', percent,'%')\n",
    "elif percent >= 60 and percent < 70:\n",
    "    print('\\n---Details of your Marks---')\n",
    "    print(Obtained_Marks, \"/\", Total_Marks)\n",
    "    print('You Secure Grade B', percent,'%')\n",
    "elif percent >= 50 and percent < 60:\n",
    "    print('\\n---Details of your Marks---')\n",
    "    print(Obtained_Marks, \"/\", Total_Marks)\n",
    "    print('You Secure Grade C', percent,'%')\n",
    "elif percent >= 40 and percent < 50:\n",
    "    print('\\n---Details of your Marks---')\n",
    "    print(Obtained_Marks, \"/\", Total_Marks)\n",
    "    print('You Secure Grade D', percent,'%')\n",
    "elif percent >= 33 and percent < 40:\n",
    "    print('\\n---Details of your Marks---')\n",
    "    print(Obtained_Marks, \"/\", Total_Marks)\n",
    "    print('You Secure Grade E', percent,'%')\n",
    "elif percent < 33:\n",
    "    print('\\n---Details of your Marks---')\n",
    "    print(Obtained_Marks, \"/\", Total_Marks)\n",
    "    print('You are Fail! Grade F', percent, '%')\n",
    "else:\n",
    "    print('Invalid Input')"
   ]
  },
  {
   "cell_type": "code",
   "execution_count": null,
   "id": "bc19fb90",
   "metadata": {},
   "outputs": [],
   "source": []
  }
 ],
 "metadata": {
  "kernelspec": {
   "display_name": "Python 3",
   "language": "python",
   "name": "python3"
  },
  "language_info": {
   "codemirror_mode": {
    "name": "ipython",
    "version": 3
   },
   "file_extension": ".py",
   "mimetype": "text/x-python",
   "name": "python",
   "nbconvert_exporter": "python",
   "pygments_lexer": "ipython3",
   "version": "3.8.8"
  }
 },
 "nbformat": 4,
 "nbformat_minor": 5
}
