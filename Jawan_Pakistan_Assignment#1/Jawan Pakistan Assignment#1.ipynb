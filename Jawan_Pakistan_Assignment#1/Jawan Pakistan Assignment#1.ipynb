{
 "cells": [
  {
   "cell_type": "code",
   "execution_count": 1,
   "id": "256371cd",
   "metadata": {},
   "outputs": [
    {
     "name": "stdout",
     "output_type": "stream",
     "text": [
      "Hello Pakistan! My name is Syed Ahmed Mazhar Gillani.\n"
     ]
    }
   ],
   "source": [
    "# Please write your name like \"Hello <Your Name>\" in Jupyter Notebook \n",
    "\n",
    "# ----Program----\n",
    "\n",
    "print(\"Hello Pakistan! My name is Syed Ahmed Mazhar Gillani.\")"
   ]
  },
  {
   "cell_type": "code",
   "execution_count": null,
   "id": "f7235884",
   "metadata": {},
   "outputs": [],
   "source": []
  }
 ],
 "metadata": {
  "kernelspec": {
   "display_name": "Python 3",
   "language": "python",
   "name": "python3"
  },
  "language_info": {
   "codemirror_mode": {
    "name": "ipython",
    "version": 3
   },
   "file_extension": ".py",
   "mimetype": "text/x-python",
   "name": "python",
   "nbconvert_exporter": "python",
   "pygments_lexer": "ipython3",
   "version": "3.8.8"
  }
 },
 "nbformat": 4,
 "nbformat_minor": 5
}
